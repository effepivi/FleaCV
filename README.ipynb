{
 "cells": [
  {
   "cell_type": "markdown",
   "metadata": {},
   "source": []
  },
  {
   "cell_type": "markdown",
   "metadata": {},
   "source": [
    "## Compiler parameters\n",
    "\n",
    "Set my Jypyter environment for the use of [OpenCV](https://opencv.org/) in a [C++ notebook](https://github.com/jupyter-xeus/xeus-cling). \n",
    "You don't need this line when you write your own C++ programs. \n",
    "I need it to set my [interactive compiler (Cling)](https://root.cern/cling/). \n",
    "For your own program, use [CMake](https://cmake.org/)."
   ]
  },
  {
   "cell_type": "code",
   "execution_count": 2,
   "metadata": {},
   "outputs": [],
   "source": [
    "#include \"includeLibraries.h\""
   ]
  },
  {
   "cell_type": "markdown",
   "metadata": {},
   "source": [
    "## Header inclusion for C++"
   ]
  },
  {
   "cell_type": "code",
   "execution_count": 3,
   "metadata": {},
   "outputs": [],
   "source": [
    "#include <iostream> // For cout and cerr\n",
    "#include <sstream> // For formatting error messages\n",
    "#include <memory> // For smart pointer\n",
    "#include <stdexcept> // For runtime exceptions\n",
    "#include <opencv2/opencv.hpp> // For OpenCV\n",
    "#include <FlyCapture2.h> // For the Flea3 camera"
   ]
  },
  {
   "cell_type": "markdown",
   "metadata": {},
   "source": [
    "## Add the namespaces"
   ]
  },
  {
   "cell_type": "code",
   "execution_count": 4,
   "metadata": {},
   "outputs": [],
   "source": [
    "using namespace FlyCapture2;"
   ]
  },
  {
   "cell_type": "code",
   "execution_count": 5,
   "metadata": {},
   "outputs": [],
   "source": [
    "using namespace cv;"
   ]
  },
  {
   "cell_type": "code",
   "execution_count": 6,
   "metadata": {},
   "outputs": [],
   "source": [
    "using namespace std;"
   ]
  },
  {
   "cell_type": "markdown",
   "metadata": {},
   "source": [
    "## Open the camera"
   ]
  },
  {
   "cell_type": "code",
   "execution_count": 9,
   "metadata": {},
   "outputs": [],
   "source": [
    "//-----------------------------------\n",
    "PGRGuid getFlea3Id(int aCameraId = 0)\n",
    "//-----------------------------------\n",
    "{\n",
    "    PGRGuid guid;\n",
    "    BusManager bus_manager;\n",
    "    unsigned int number_of_cameras;\n",
    "    \n",
    "    // Retrieve the number of cameras\n",
    "    FlyCapture2::Error error_status = bus_manager.GetNumOfCameras(&number_of_cameras);\n",
    "    if (error_status != PGRERROR_OK)\n",
    "    {\n",
    "        throw runtime_error(error_status.GetDescription());\n",
    "    }\n",
    "    \n",
    "    // The camera exists\n",
    "    if (number_of_cameras > aCameraId)\n",
    "    {\n",
    "        error_status = bus_manager.GetCameraFromIndex(aCameraId, &guid);\n",
    "        if (error_status != PGRERROR_OK)\n",
    "        {\n",
    "            throw runtime_error(error_status.GetDescription());\n",
    "        }\n",
    "    }\n",
    "    // The camera does not exist\n",
    "    else\n",
    "    {\n",
    "        stringstream error_message;\n",
    "        error_message << \"FATAL ERROR\" << endl; \n",
    "        error_message << \"Number of cameras detected: \" << number_of_cameras << endl;\n",
    "        error_message << \"Camera ID \" << aCameraId << \" does not exist\" << endl;\n",
    "        error_message << \"The program will terminate.\";\n",
    "        throw runtime_error(error_message.str());\n",
    "    }\n",
    "    \n",
    "    return guid;\n",
    "}"
   ]
  },
  {
   "cell_type": "code",
   "execution_count": 11,
   "metadata": {},
   "outputs": [],
   "source": [
    "//------------------------------------------------------\n",
    "void openFlea3Camera(Camera& aCamera, int aCameraId = 0)\n",
    "//------------------------------------------------------\n",
    "{\n",
    "    // Get the ID\n",
    "    PGRGuid guid = getFlea3Id(aCameraId);\n",
    "    \n",
    "    // Connect to a camera\n",
    "    FlyCapture2::Error error_status = aCamera.Connect(&guid);\n",
    "    if (error_status != PGRERROR_OK)\n",
    "    {\n",
    "        throw runtime_error(error_status.GetDescription());\n",
    "    }\n",
    "    \n",
    "    // Get the camera configuration\n",
    "    FC2Config config;\n",
    "    error_status = aCamera.GetConfiguration(&config);\n",
    "    if (error_status != PGRERROR_OK)\n",
    "    {\n",
    "        throw runtime_error(error_status.GetDescription());\n",
    "    }\n",
    "\n",
    "    // Set the number of driver buffers used to 10.\n",
    "    config.numBuffers = 10;\n",
    "\n",
    "    // Set the camera configuration\n",
    "    error_status = aCamera.SetConfiguration(&config);\n",
    "    if (error_status != PGRERROR_OK)\n",
    "    {\n",
    "        throw runtime_error(error_status.GetDescription());\n",
    "    }\n",
    "\n",
    "    // Start capturing images\n",
    "    error_status = aCamera.StartCapture();\n",
    "    if (error_status != PGRERROR_OK)\n",
    "    {\n",
    "        throw runtime_error(error_status.GetDescription());\n",
    "    }\n",
    "}"
   ]
  },
  {
   "cell_type": "code",
   "execution_count": 12,
   "metadata": {},
   "outputs": [],
   "source": [
    "//--------------------------------------\n",
    "void releaseFlea3Camera(Camera& aCamera)\n",
    "//--------------------------------------\n",
    "{\n",
    "    // Stop capturing images\n",
    "    FlyCapture2::Error error_status = aCamera.StopCapture();\n",
    "    if (error_status != PGRERROR_OK)\n",
    "    {\n",
    "        throw runtime_error(error_status.GetDescription());\n",
    "    }\n",
    "\n",
    "    // Disconnect the camera\n",
    "    error_status = aCamera.Disconnect();\n",
    "    if (error_status != PGRERROR_OK)\n",
    "    {\n",
    "        throw runtime_error(error_status.GetDescription());\n",
    "    }\n",
    "}"
   ]
  },
  {
   "cell_type": "code",
   "execution_count": 17,
   "metadata": {},
   "outputs": [],
   "source": [
    "Mat getFrame(Camera& aCamera)\n",
    "{\n",
    "    // Retrieve an image\n",
    "    Image rawImage;\n",
    "    FlyCapture2::Error error_status = aCamera.RetrieveBuffer(&rawImage);\n",
    "    if (error_status != PGRERROR_OK)\n",
    "    {\n",
    "        throw runtime_error(error_status.GetDescription());\n",
    "    }\n",
    "\n",
    "    // Convert the raw image\n",
    "    Image convertedImage;\n",
    "    error_status = rawImage.Convert(PIXEL_FORMAT_MONO8, &convertedImage);\n",
    "    if (error_status != PGRERROR_OK)\n",
    "    {\n",
    "        throw runtime_error(error_status.GetDescription());\n",
    "    }\n",
    "\n",
    "    // Convert to OpenCV\n",
    "    return Mat(convertedImage.GetRows(), convertedImage.GetCols(), CV_8UC1, convertedImage.GetData());\n",
    "}"
   ]
  },
  {
   "cell_type": "code",
   "execution_count": 20,
   "metadata": {},
   "outputs": [
    {
     "ename": "Standard Exception",
     "evalue": "FATAL ERROR\nNumber of cameras detected: 0\nCamera ID 0 does not exist\nThe program will terminate.",
     "output_type": "error",
     "traceback": [
      "Standard Exception: FATAL ERROR\nNumber of cameras detected: 0\nCamera ID 0 does not exist\nThe program will terminate."
     ]
    }
   ],
   "source": [
    "Camera camera;\n",
    "openFlea3Camera(camera, 0);"
   ]
  },
  {
   "cell_type": "markdown",
   "metadata": {},
   "source": [
    "## Display the images from the camera\n",
    "\n",
    "We create a window to display the images from the webcam"
   ]
  },
  {
   "cell_type": "code",
   "execution_count": null,
   "metadata": {},
   "outputs": [],
   "source": [
    "namedWindow(\"Webcam\", WINDOW_GUI_EXPANDED); // Create a window"
   ]
  },
  {
   "cell_type": "markdown",
   "metadata": {},
   "source": [
    "We display the images in a loop"
   ]
  },
  {
   "cell_type": "code",
   "execution_count": null,
   "metadata": {},
   "outputs": [],
   "source": [
    "while (waitKey(1) != 27) // Exit when pressing <ESC>\n",
    "{\n",
    "    // Grab a new frame\n",
    "    Mat frame;\n",
    "    video_input >> frame;\n",
    "\n",
    "    // Make sure everything went well\n",
    "    if (frame.empty())\n",
    "    {\n",
    "        video_input.release(); // We are now done with the camera, stop it\n",
    "        throw runtime_error(\"OpenCV cannot grab a new frame from the camera, the program will terminate\");\n",
    "    }\n",
    "       \n",
    "    // Display the image\n",
    "    imshow(\"Webcam\", frame);\n",
    "}"
   ]
  },
  {
   "cell_type": "markdown",
   "metadata": {},
   "source": [
    "Release the camera"
   ]
  },
  {
   "cell_type": "code",
   "execution_count": 23,
   "metadata": {},
   "outputs": [
    {
     "ename": "Standard Exception",
     "evalue": "Generation count is incorrect.",
     "output_type": "error",
     "traceback": [
      "Standard Exception: Generation count is incorrect."
     ]
    }
   ],
   "source": [
    "releaseFlea3Camera(camera);"
   ]
  },
  {
   "cell_type": "markdown",
   "metadata": {},
   "source": [
    "We don't need the window any more, destroy it"
   ]
  },
  {
   "cell_type": "code",
   "execution_count": null,
   "metadata": {},
   "outputs": [],
   "source": [
    "destroyAllWindows(); // Destroy all the created windows"
   ]
  }
 ],
 "metadata": {
  "kernelspec": {
   "display_name": "C++17",
   "language": "C++17",
   "name": "xcpp17"
  },
  "language_info": {
   "codemirror_mode": "text/x-c++src",
   "file_extension": ".cpp",
   "mimetype": "text/x-c++src",
   "name": "c++",
   "version": "17"
  }
 },
 "nbformat": 4,
 "nbformat_minor": 4
}
